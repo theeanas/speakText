{
  "cells": [
    {
      "attachments": {},
      "cell_type": "markdown",
      "metadata": {
        "id": "iQGeT8WfwCFT"
      },
      "source": [
        "### Install necessary modules ... Run it once."
      ]
    },
    {
      "cell_type": "code",
      "execution_count": null,
      "metadata": {
        "id": "MyFGPNBHwe8T"
      },
      "outputs": [],
      "source": [
        "! pip install yt-dlp\n",
        "! pip install -U openai-whisper\n",
        "! pip install youtube-search-python\n",
        "! pip install ffmpeg-python"
      ]
    },
    {
      "attachments": {},
      "cell_type": "markdown",
      "metadata": {
        "id": "-cAnYv7KvsrE"
      },
      "source": [
        "### Fetch the videos from Thamanya's Channel"
      ]
    },
    {
      "cell_type": "code",
      "execution_count": 11,
      "metadata": {
        "colab": {
          "base_uri": "https://localhost:8080/"
        },
        "id": "GDzhZIBN6Rx3",
        "outputId": "7a839a21-4918-4b3a-f836-f4be971fa016"
      },
      "outputs": [
        {
          "name": "stdout",
          "output_type": "stream",
          "text": [
            "Videos Retrieved: 100\n",
            "Getting more videos...\n",
            "Videos Retrieved: 175\n",
            "Found all the videos.\n"
          ]
        }
      ],
      "source": [
        "from youtubesearchpython import *\n",
        "\n",
        "pl_url = \"https://www.youtube.com/playlist?list=PLeNNUmE-BlnEls2kOkiV2CXMezV6oaq8I\"\n",
        "pl = Playlist(pl_url)\n",
        "\n",
        "print(f'Videos Retrieved: {len(pl.videos)}')\n",
        "\n",
        "while pl.hasMoreVideos:\n",
        "    print('Getting more videos...')\n",
        "    pl.getNextVideos()\n",
        "    print(f'Videos Retrieved: {len(pl.videos)}')\n",
        "\n",
        "print('Found all the videos.')"
      ]
    },
    {
      "attachments": {},
      "cell_type": "markdown",
      "metadata": {
        "id": "B-Zi2fEpvzUp"
      },
      "source": [
        "### Convert the videos to mp3, then feed them to Whisper.\n",
        "\n",
        "Hey Saleh ... \\\n",
        "I made it efficiency-immune against multiple runs by checking if the mp3 exists and whether the transcription was already done from a previous run."
      ]
    },
    {
      "cell_type": "code",
      "execution_count": null,
      "metadata": {
        "id": "7bPEOjvKON8m"
      },
      "outputs": [],
      "source": [
        "import os, subprocess\n",
        "\n",
        "N = len(pl.videos) # episodes\n",
        "for i in range(N):\n",
        "\n",
        "  if not os.path.exists(f\"{i}.mp3\"):\n",
        "    video_link = pl.videos[i]['link'].split('&')[0]\n",
        "    command = f\"yt-dlp -x --audio-format mp3 -o {i}.mp3 {video_link}\"\n",
        "    print(command)\n",
        "    cp = subprocess.run(command.split(), capture_output=True, text=True)\n",
        "    print(cp.stdout)\n",
        "    print(cp.stderr)\n",
        "\n",
        "  print(\"Finished converting episode {} to mp3\".format(pl.videos[i]['title']))\n",
        "\n",
        "  if not os.path.exists(f\"{i}.vtt\"):\n",
        "    command = f\"whisper {i}.mp3 --language ar --model medium --output_format vtt\"\n",
        "    print(command)\n",
        "    cp = subprocess.run(command.split(), capture_output=True, text=True)\n",
        "    print(cp.stdout)\n",
        "    print(cp.stderr)\n",
        "\n",
        "  print(\"Finished transcribing episode {}.\".format(pl.videos[i]['title']))"
      ]
    }
  ],
  "metadata": {
    "colab": {
      "provenance": []
    },
    "kernelspec": {
      "display_name": "Python 3",
      "language": "python",
      "name": "python3"
    },
    "language_info": {
      "codemirror_mode": {
        "name": "ipython",
        "version": 3
      },
      "file_extension": ".py",
      "mimetype": "text/x-python",
      "name": "python",
      "nbconvert_exporter": "python",
      "pygments_lexer": "ipython3",
      "version": "3.8.10"
    },
    "vscode": {
      "interpreter": {
        "hash": "570feb405e2e27c949193ac68f46852414290d515b0ba6e5d90d076ed2284471"
      }
    }
  },
  "nbformat": 4,
  "nbformat_minor": 0
}
